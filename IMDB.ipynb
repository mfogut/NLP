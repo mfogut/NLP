{
 "cells": [
  {
   "cell_type": "markdown",
   "metadata": {},
   "source": [
    "### Data Set\n",
    "The labeled data set consists of 25,000 IMDB movie reviews, specially selected for sentiment analysis. The sentiment of reviews is binary, meaning the IMDB rating < 5 results in a sentiment score of \"Negative\", and rating >=7 have a sentiment score of \"Positive.\" No individual movie has more than 30 reviews.\n",
    "\n",
    "File description\n",
    "MovieReviewTrainingDatabase.csv - The labeled training set. The file is comma-delimited and has a header row followed by 25,000 rows containing the sentiment and the text for each review.\n",
    "\n",
    "Data fields\n",
    "sentiment - Sentiment of the review; \"Positive\" for positive reviews and \"Negative\" for negative reviews review - Text of the review"
   ]
  },
  {
   "cell_type": "code",
   "execution_count": 1,
   "metadata": {},
   "outputs": [],
   "source": [
    "import pandas as pd\n",
    "import numpy as np\n",
    "import string\n",
    "import matplotlib.pyplot as plt\n",
    "import seaborn as sns\n",
    "sns.set_style('darkgrid')\n",
    "%matplotlib inline\n",
    "from nltk.corpus import stopwords"
   ]
  },
  {
   "cell_type": "code",
   "execution_count": 2,
   "metadata": {},
   "outputs": [],
   "source": [
    "df = pd.read_csv('IMDB.csv')"
   ]
  },
  {
   "cell_type": "code",
   "execution_count": 3,
   "metadata": {},
   "outputs": [
    {
     "data": {
      "text/html": [
       "<div>\n",
       "<style scoped>\n",
       "    .dataframe tbody tr th:only-of-type {\n",
       "        vertical-align: middle;\n",
       "    }\n",
       "\n",
       "    .dataframe tbody tr th {\n",
       "        vertical-align: top;\n",
       "    }\n",
       "\n",
       "    .dataframe thead th {\n",
       "        text-align: right;\n",
       "    }\n",
       "</style>\n",
       "<table border=\"1\" class=\"dataframe\">\n",
       "  <thead>\n",
       "    <tr style=\"text-align: right;\">\n",
       "      <th></th>\n",
       "      <th>sentiment</th>\n",
       "      <th>review</th>\n",
       "    </tr>\n",
       "  </thead>\n",
       "  <tbody>\n",
       "    <tr>\n",
       "      <td>0</td>\n",
       "      <td>Negative</td>\n",
       "      <td>I had no background knowledge of this movie be...</td>\n",
       "    </tr>\n",
       "    <tr>\n",
       "      <td>1</td>\n",
       "      <td>Negative</td>\n",
       "      <td>I am a huge Jane Austen fan and I ordered the ...</td>\n",
       "    </tr>\n",
       "    <tr>\n",
       "      <td>2</td>\n",
       "      <td>Negative</td>\n",
       "      <td>Nothing to say but Wow! Has anyone actually ha...</td>\n",
       "    </tr>\n",
       "    <tr>\n",
       "      <td>3</td>\n",
       "      <td>Negative</td>\n",
       "      <td>i like Jane Austin novels. I love Pride and Pr...</td>\n",
       "    </tr>\n",
       "    <tr>\n",
       "      <td>4</td>\n",
       "      <td>Negative</td>\n",
       "      <td>In this day and age of incredible special movi...</td>\n",
       "    </tr>\n",
       "  </tbody>\n",
       "</table>\n",
       "</div>"
      ],
      "text/plain": [
       "  sentiment                                             review\n",
       "0  Negative  I had no background knowledge of this movie be...\n",
       "1  Negative  I am a huge Jane Austen fan and I ordered the ...\n",
       "2  Negative  Nothing to say but Wow! Has anyone actually ha...\n",
       "3  Negative  i like Jane Austin novels. I love Pride and Pr...\n",
       "4  Negative  In this day and age of incredible special movi..."
      ]
     },
     "execution_count": 3,
     "metadata": {},
     "output_type": "execute_result"
    }
   ],
   "source": [
    "df.head()"
   ]
  },
  {
   "cell_type": "code",
   "execution_count": 4,
   "metadata": {},
   "outputs": [
    {
     "name": "stdout",
     "output_type": "stream",
     "text": [
      "<class 'pandas.core.frame.DataFrame'>\n",
      "RangeIndex: 10000 entries, 0 to 9999\n",
      "Data columns (total 2 columns):\n",
      "sentiment    10000 non-null object\n",
      "review       10000 non-null object\n",
      "dtypes: object(2)\n",
      "memory usage: 156.4+ KB\n"
     ]
    }
   ],
   "source": [
    "df.info()"
   ]
  },
  {
   "cell_type": "code",
   "execution_count": 5,
   "metadata": {},
   "outputs": [
    {
     "data": {
      "text/html": [
       "<div>\n",
       "<style scoped>\n",
       "    .dataframe tbody tr th:only-of-type {\n",
       "        vertical-align: middle;\n",
       "    }\n",
       "\n",
       "    .dataframe tbody tr th {\n",
       "        vertical-align: top;\n",
       "    }\n",
       "\n",
       "    .dataframe thead th {\n",
       "        text-align: right;\n",
       "    }\n",
       "</style>\n",
       "<table border=\"1\" class=\"dataframe\">\n",
       "  <thead>\n",
       "    <tr style=\"text-align: right;\">\n",
       "      <th></th>\n",
       "      <th>sentiment</th>\n",
       "      <th>review</th>\n",
       "    </tr>\n",
       "  </thead>\n",
       "  <tbody>\n",
       "    <tr>\n",
       "      <td>count</td>\n",
       "      <td>10000</td>\n",
       "      <td>10000</td>\n",
       "    </tr>\n",
       "    <tr>\n",
       "      <td>unique</td>\n",
       "      <td>2</td>\n",
       "      <td>9990</td>\n",
       "    </tr>\n",
       "    <tr>\n",
       "      <td>top</td>\n",
       "      <td>Negative</td>\n",
       "      <td>This show comes up with interesting locations ...</td>\n",
       "    </tr>\n",
       "    <tr>\n",
       "      <td>freq</td>\n",
       "      <td>5081</td>\n",
       "      <td>3</td>\n",
       "    </tr>\n",
       "  </tbody>\n",
       "</table>\n",
       "</div>"
      ],
      "text/plain": [
       "       sentiment                                             review\n",
       "count      10000                                              10000\n",
       "unique         2                                               9990\n",
       "top     Negative  This show comes up with interesting locations ...\n",
       "freq        5081                                                  3"
      ]
     },
     "execution_count": 5,
     "metadata": {},
     "output_type": "execute_result"
    }
   ],
   "source": [
    "df.describe()"
   ]
  },
  {
   "cell_type": "code",
   "execution_count": 6,
   "metadata": {},
   "outputs": [
    {
     "data": {
      "text/plain": [
       "sentiment    0\n",
       "review       0\n",
       "dtype: int64"
      ]
     },
     "execution_count": 6,
     "metadata": {},
     "output_type": "execute_result"
    }
   ],
   "source": [
    "df.isna().sum()"
   ]
  },
  {
   "cell_type": "code",
   "execution_count": 7,
   "metadata": {},
   "outputs": [
    {
     "data": {
      "text/plain": [
       "sentiment    0\n",
       "review       0\n",
       "dtype: int64"
      ]
     },
     "execution_count": 7,
     "metadata": {},
     "output_type": "execute_result"
    }
   ],
   "source": [
    "df.isnull().sum()"
   ]
  },
  {
   "cell_type": "code",
   "execution_count": 8,
   "metadata": {},
   "outputs": [],
   "source": [
    "#Create function to remove punctuation\n",
    "def no_punc(text):\n",
    "    no_punc = []\n",
    "    for punc in text:\n",
    "        if punc not in string.punctuation:\n",
    "            no_punc.append(punc)\n",
    "    no_punc = ''.join(no_punc)\n",
    "    return no_punc"
   ]
  },
  {
   "cell_type": "code",
   "execution_count": 9,
   "metadata": {},
   "outputs": [],
   "source": [
    "#remove trailing\n",
    "df['review'] = df['review'].str.rstrip()"
   ]
  },
  {
   "cell_type": "code",
   "execution_count": 10,
   "metadata": {},
   "outputs": [],
   "source": [
    "#remove punctuation\n",
    "df['review'] = df['review'].apply(no_punc)"
   ]
  },
  {
   "cell_type": "code",
   "execution_count": 11,
   "metadata": {},
   "outputs": [
    {
     "data": {
      "text/plain": [
       "'I had no background knowledge of this movie before I bought it but it sounded cool and Ive been wanting to see a really kickbutt Viking movie for awhile now alas this film was not what I was looking for I had hoped for the best but instead was delivered a boring Nordic soapopera that seemed to drag on too long despite its 84 minute running time The films premise is intriguing enough Its about a Viking warlord who defies his God and Odin is so enraged that he curses the warlords son named Barek to death and rebirth as a Berserker This Barek guy is then forced to live enraged insane and violent lifetime after lifetime The movie is filmed competently enough with some rich cinematography and quasigood performances by the actors but again I found myself bored and questioning when this dribble would end The filmmakers had a chance to make something rather entertaining and semiunique but they dropped the ball Perhaps it couldve been improved with some cheap exploitation tactics thrown in such as gratuitous nudity and lots of gore I mean we are talking about Berserkers here arent we Vikings were supposed to be BAD enough what with all the raping and pillaging so arent Berserkers supposed to be even more extreme All in all unless youre a fan of The Young and Restless etc or are yourself in fact an insane Berserker who likes self torture Id probably steer clear of this drab piece of celluloid'"
      ]
     },
     "execution_count": 11,
     "metadata": {},
     "output_type": "execute_result"
    }
   ],
   "source": [
    "df['review'][0]"
   ]
  },
  {
   "cell_type": "code",
   "execution_count": 12,
   "metadata": {},
   "outputs": [],
   "source": [
    "df['review'] = df['review'].str.lower()"
   ]
  },
  {
   "cell_type": "code",
   "execution_count": 13,
   "metadata": {},
   "outputs": [
    {
     "data": {
      "text/plain": [
       "'i had no background knowledge of this movie before i bought it but it sounded cool and ive been wanting to see a really kickbutt viking movie for awhile now alas this film was not what i was looking for i had hoped for the best but instead was delivered a boring nordic soapopera that seemed to drag on too long despite its 84 minute running time the films premise is intriguing enough its about a viking warlord who defies his god and odin is so enraged that he curses the warlords son named barek to death and rebirth as a berserker this barek guy is then forced to live enraged insane and violent lifetime after lifetime the movie is filmed competently enough with some rich cinematography and quasigood performances by the actors but again i found myself bored and questioning when this dribble would end the filmmakers had a chance to make something rather entertaining and semiunique but they dropped the ball perhaps it couldve been improved with some cheap exploitation tactics thrown in such as gratuitous nudity and lots of gore i mean we are talking about berserkers here arent we vikings were supposed to be bad enough what with all the raping and pillaging so arent berserkers supposed to be even more extreme all in all unless youre a fan of the young and restless etc or are yourself in fact an insane berserker who likes self torture id probably steer clear of this drab piece of celluloid'"
      ]
     },
     "execution_count": 13,
     "metadata": {},
     "output_type": "execute_result"
    }
   ],
   "source": [
    "df['review'][0]"
   ]
  },
  {
   "cell_type": "code",
   "execution_count": 14,
   "metadata": {},
   "outputs": [],
   "source": [
    "df['review'] = df['review'].str.split()"
   ]
  },
  {
   "cell_type": "code",
   "execution_count": 15,
   "metadata": {},
   "outputs": [
    {
     "name": "stdout",
     "output_type": "stream",
     "text": [
      "['i', 'had', 'no', 'background', 'knowledge', 'of', 'this', 'movie', 'before', 'i', 'bought', 'it', 'but', 'it', 'sounded', 'cool', 'and', 'ive', 'been', 'wanting', 'to', 'see', 'a', 'really', 'kickbutt', 'viking', 'movie', 'for', 'awhile', 'now', 'alas', 'this', 'film', 'was', 'not', 'what', 'i', 'was', 'looking', 'for', 'i', 'had', 'hoped', 'for', 'the', 'best', 'but', 'instead', 'was', 'delivered', 'a', 'boring', 'nordic', 'soapopera', 'that', 'seemed', 'to', 'drag', 'on', 'too', 'long', 'despite', 'its', '84', 'minute', 'running', 'time', 'the', 'films', 'premise', 'is', 'intriguing', 'enough', 'its', 'about', 'a', 'viking', 'warlord', 'who', 'defies', 'his', 'god', 'and', 'odin', 'is', 'so', 'enraged', 'that', 'he', 'curses', 'the', 'warlords', 'son', 'named', 'barek', 'to', 'death', 'and', 'rebirth', 'as', 'a', 'berserker', 'this', 'barek', 'guy', 'is', 'then', 'forced', 'to', 'live', 'enraged', 'insane', 'and', 'violent', 'lifetime', 'after', 'lifetime', 'the', 'movie', 'is', 'filmed', 'competently', 'enough', 'with', 'some', 'rich', 'cinematography', 'and', 'quasigood', 'performances', 'by', 'the', 'actors', 'but', 'again', 'i', 'found', 'myself', 'bored', 'and', 'questioning', 'when', 'this', 'dribble', 'would', 'end', 'the', 'filmmakers', 'had', 'a', 'chance', 'to', 'make', 'something', 'rather', 'entertaining', 'and', 'semiunique', 'but', 'they', 'dropped', 'the', 'ball', 'perhaps', 'it', 'couldve', 'been', 'improved', 'with', 'some', 'cheap', 'exploitation', 'tactics', 'thrown', 'in', 'such', 'as', 'gratuitous', 'nudity', 'and', 'lots', 'of', 'gore', 'i', 'mean', 'we', 'are', 'talking', 'about', 'berserkers', 'here', 'arent', 'we', 'vikings', 'were', 'supposed', 'to', 'be', 'bad', 'enough', 'what', 'with', 'all', 'the', 'raping', 'and', 'pillaging', 'so', 'arent', 'berserkers', 'supposed', 'to', 'be', 'even', 'more', 'extreme', 'all', 'in', 'all', 'unless', 'youre', 'a', 'fan', 'of', 'the', 'young', 'and', 'restless', 'etc', 'or', 'are', 'yourself', 'in', 'fact', 'an', 'insane', 'berserker', 'who', 'likes', 'self', 'torture', 'id', 'probably', 'steer', 'clear', 'of', 'this', 'drab', 'piece', 'of', 'celluloid']\n"
     ]
    }
   ],
   "source": [
    "print(df['review'][0])"
   ]
  },
  {
   "cell_type": "code",
   "execution_count": 16,
   "metadata": {},
   "outputs": [],
   "source": [
    "#Create a function to remove stopwords\n",
    "def clean_stopwords(text):\n",
    "    clean_stopwords = []\n",
    "    for word in text:\n",
    "        if word not in stopwords.words('english'):\n",
    "            clean_stopwords.append(word)\n",
    "    return clean_stopwords"
   ]
  },
  {
   "cell_type": "code",
   "execution_count": 17,
   "metadata": {},
   "outputs": [],
   "source": [
    "#remove stopwords\n",
    "df['review'] = df['review'].apply(clean_stopwords)"
   ]
  },
  {
   "cell_type": "code",
   "execution_count": 18,
   "metadata": {},
   "outputs": [
    {
     "name": "stdout",
     "output_type": "stream",
     "text": [
      "['background', 'knowledge', 'movie', 'bought', 'sounded', 'cool', 'ive', 'wanting', 'see', 'really', 'kickbutt', 'viking', 'movie', 'awhile', 'alas', 'film', 'looking', 'hoped', 'best', 'instead', 'delivered', 'boring', 'nordic', 'soapopera', 'seemed', 'drag', 'long', 'despite', '84', 'minute', 'running', 'time', 'films', 'premise', 'intriguing', 'enough', 'viking', 'warlord', 'defies', 'god', 'odin', 'enraged', 'curses', 'warlords', 'son', 'named', 'barek', 'death', 'rebirth', 'berserker', 'barek', 'guy', 'forced', 'live', 'enraged', 'insane', 'violent', 'lifetime', 'lifetime', 'movie', 'filmed', 'competently', 'enough', 'rich', 'cinematography', 'quasigood', 'performances', 'actors', 'found', 'bored', 'questioning', 'dribble', 'would', 'end', 'filmmakers', 'chance', 'make', 'something', 'rather', 'entertaining', 'semiunique', 'dropped', 'ball', 'perhaps', 'couldve', 'improved', 'cheap', 'exploitation', 'tactics', 'thrown', 'gratuitous', 'nudity', 'lots', 'gore', 'mean', 'talking', 'berserkers', 'arent', 'vikings', 'supposed', 'bad', 'enough', 'raping', 'pillaging', 'arent', 'berserkers', 'supposed', 'even', 'extreme', 'unless', 'youre', 'fan', 'young', 'restless', 'etc', 'fact', 'insane', 'berserker', 'likes', 'self', 'torture', 'id', 'probably', 'steer', 'clear', 'drab', 'piece', 'celluloid']\n"
     ]
    }
   ],
   "source": [
    "print(df['review'][0])"
   ]
  },
  {
   "cell_type": "code",
   "execution_count": 19,
   "metadata": {},
   "outputs": [],
   "source": [
    "df['review'] = df['review'].str.join(' ') "
   ]
  },
  {
   "cell_type": "code",
   "execution_count": 20,
   "metadata": {},
   "outputs": [
    {
     "data": {
      "text/plain": [
       "'background knowledge movie bought sounded cool ive wanting see really kickbutt viking movie awhile alas film looking hoped best instead delivered boring nordic soapopera seemed drag long despite 84 minute running time films premise intriguing enough viking warlord defies god odin enraged curses warlords son named barek death rebirth berserker barek guy forced live enraged insane violent lifetime lifetime movie filmed competently enough rich cinematography quasigood performances actors found bored questioning dribble would end filmmakers chance make something rather entertaining semiunique dropped ball perhaps couldve improved cheap exploitation tactics thrown gratuitous nudity lots gore mean talking berserkers arent vikings supposed bad enough raping pillaging arent berserkers supposed even extreme unless youre fan young restless etc fact insane berserker likes self torture id probably steer clear drab piece celluloid'"
      ]
     },
     "execution_count": 20,
     "metadata": {},
     "output_type": "execute_result"
    }
   ],
   "source": [
    "df['review'][0]"
   ]
  },
  {
   "cell_type": "code",
   "execution_count": 21,
   "metadata": {},
   "outputs": [],
   "source": [
    "from sklearn.feature_extraction.text import CountVectorizer"
   ]
  },
  {
   "cell_type": "code",
   "execution_count": 22,
   "metadata": {},
   "outputs": [
    {
     "data": {
      "text/plain": [
       "0       background knowledge movie bought sounded cool...\n",
       "1       huge jane austen fan ordered movie amazonuk co...\n",
       "2       nothing say wow anyone actually somebody sneak...\n",
       "3       like jane austin novels love pride prejudice s...\n",
       "4       day age incredible special movie effects one s...\n",
       "                              ...                        \n",
       "9995    first saw movie back early90s first released r...\n",
       "9996    nyc 2022 greenhouse effect vanished oceans gri...\n",
       "9997    individuals familiar asian cinema whole aware ...\n",
       "9998    kids aged 7 14 got huge kick film gave copy ki...\n",
       "9999    love movie animation great pokã©mon movie cgi ...\n",
       "Name: review, Length: 10000, dtype: object"
      ]
     },
     "execution_count": 22,
     "metadata": {},
     "output_type": "execute_result"
    }
   ],
   "source": [
    "X = df['review']\n",
    "X"
   ]
  },
  {
   "cell_type": "code",
   "execution_count": 23,
   "metadata": {},
   "outputs": [
    {
     "data": {
      "text/plain": [
       "0       Negative\n",
       "1       Negative\n",
       "2       Negative\n",
       "3       Negative\n",
       "4       Negative\n",
       "          ...   \n",
       "9995    Positive\n",
       "9996    Positive\n",
       "9997    Positive\n",
       "9998    Positive\n",
       "9999    Positive\n",
       "Name: sentiment, Length: 10000, dtype: object"
      ]
     },
     "execution_count": 23,
     "metadata": {},
     "output_type": "execute_result"
    }
   ],
   "source": [
    "y = df['sentiment']\n",
    "y"
   ]
  },
  {
   "cell_type": "code",
   "execution_count": 24,
   "metadata": {},
   "outputs": [],
   "source": [
    "cv = CountVectorizer()"
   ]
  },
  {
   "cell_type": "code",
   "execution_count": 25,
   "metadata": {},
   "outputs": [],
   "source": [
    "X = cv.fit_transform(X)"
   ]
  },
  {
   "cell_type": "code",
   "execution_count": 26,
   "metadata": {},
   "outputs": [
    {
     "data": {
      "text/plain": [
       "(10000, 70725)"
      ]
     },
     "execution_count": 26,
     "metadata": {},
     "output_type": "execute_result"
    }
   ],
   "source": [
    "X.shape"
   ]
  },
  {
   "cell_type": "code",
   "execution_count": 84,
   "metadata": {},
   "outputs": [],
   "source": [
    "from sklearn.model_selection import train_test_split\n",
    "from sklearn.ensemble import RandomForestClassifier\n",
    "from sklearn.naive_bayes import MultinomialNB\n",
    "from sklearn.metrics import confusion_matrix\n",
    "from yellowbrick.classifier import classification_report"
   ]
  },
  {
   "cell_type": "code",
   "execution_count": 73,
   "metadata": {},
   "outputs": [],
   "source": [
    "X_train, X_test, y_train, y_test = train_test_split(X, y, test_size=0.33, random_state=42)"
   ]
  },
  {
   "cell_type": "code",
   "execution_count": 74,
   "metadata": {},
   "outputs": [],
   "source": [
    "rf_model = RandomForestClassifier(n_estimators=17)"
   ]
  },
  {
   "cell_type": "code",
   "execution_count": 75,
   "metadata": {},
   "outputs": [
    {
     "data": {
      "text/plain": [
       "RandomForestClassifier(bootstrap=True, class_weight=None, criterion='gini',\n",
       "                       max_depth=None, max_features='auto', max_leaf_nodes=None,\n",
       "                       min_impurity_decrease=0.0, min_impurity_split=None,\n",
       "                       min_samples_leaf=1, min_samples_split=2,\n",
       "                       min_weight_fraction_leaf=0.0, n_estimators=17,\n",
       "                       n_jobs=None, oob_score=False, random_state=None,\n",
       "                       verbose=0, warm_start=False)"
      ]
     },
     "execution_count": 75,
     "metadata": {},
     "output_type": "execute_result"
    }
   ],
   "source": [
    "rf_model.fit(X_train, y_train)"
   ]
  },
  {
   "cell_type": "code",
   "execution_count": 76,
   "metadata": {},
   "outputs": [],
   "source": [
    "rf_pred = rf_model.predict(X_test)"
   ]
  },
  {
   "cell_type": "code",
   "execution_count": 85,
   "metadata": {},
   "outputs": [
    {
     "name": "stdout",
     "output_type": "stream",
     "text": [
      "[[1306  395]\n",
      " [ 351 1248]]\n"
     ]
    },
    {
     "data": {
      "image/png": "[encoded data removed]",
      "text/plain": [
       "<Figure size 576x396 with 2 Axes>"
      ]
     },
     "metadata": {},
     "output_type": "display_data"
    },
    {
     "data": {
      "text/plain": [
       "<matplotlib.axes._subplots.AxesSubplot at 0x1eb500849b0>"
      ]
     },
     "execution_count": 85,
     "metadata": {},
     "output_type": "execute_result"
    }
   ],
   "source": [
    "print(confusion_matrix(y_test, rf_pred))\n",
    "visualizer = ClassificationReport(rf_model, support=True)\n",
    "visualizer.fit(X_train, y_train)  # Fit the visualizer and the model\n",
    "visualizer.score(X_test, y_test)  # Evaluate the model on the test data\n",
    "visualizer.poof()             # Draw/show/poof the data"
   ]
  },
  {
   "cell_type": "code",
   "execution_count": 33,
   "metadata": {},
   "outputs": [],
   "source": [
    "nb_model = MultinomialNB()"
   ]
  },
  {
   "cell_type": "code",
   "execution_count": 34,
   "metadata": {},
   "outputs": [
    {
     "data": {
      "text/plain": [
       "MultinomialNB(alpha=1.0, class_prior=None, fit_prior=True)"
      ]
     },
     "execution_count": 34,
     "metadata": {},
     "output_type": "execute_result"
    }
   ],
   "source": [
    "nb_model.fit(X_train, y_train)"
   ]
  },
  {
   "cell_type": "code",
   "execution_count": 35,
   "metadata": {},
   "outputs": [],
   "source": [
    "nb_pred = nb_model.predict(X_test)"
   ]
  },
  {
   "cell_type": "code",
   "execution_count": 86,
   "metadata": {},
   "outputs": [
    {
     "name": "stdout",
     "output_type": "stream",
     "text": [
      "[[1454  247]\n",
      " [ 291 1308]]\n"
     ]
    },
    {
     "data": {
      "image/png": "[encoded data removed]",
      "text/plain": [
       "<Figure size 576x396 with 2 Axes>"
      ]
     },
     "metadata": {},
     "output_type": "display_data"
    },
    {
     "data": {
      "text/plain": [
       "<matplotlib.axes._subplots.AxesSubplot at 0x1eb53764940>"
      ]
     },
     "execution_count": 86,
     "metadata": {},
     "output_type": "execute_result"
    }
   ],
   "source": [
    "print(confusion_matrix(y_test, nb_pred))\n",
    "visualizer = ClassificationReport(nb_model, support=True)\n",
    "visualizer.fit(X_train, y_train)  # Fit the visualizer and the model\n",
    "visualizer.score(X_test, y_test)  # Evaluate the model on the test data\n",
    "visualizer.poof()             # Draw/show/poof the data"
   ]
  }
 ],
 "metadata": {
  "kernelspec": {
   "display_name": "Python 3",
   "language": "python",
   "name": "python3"
  },
  "language_info": {
   "codemirror_mode": {
    "name": "ipython",
    "version": 3
   },
   "file_extension": ".py",
   "mimetype": "text/x-python",
   "name": "python",
   "nbconvert_exporter": "python",
   "pygments_lexer": "ipython3",
   "version": "3.7.3"
  }
 },
 "nbformat": 4,
 "nbformat_minor": 2
}
